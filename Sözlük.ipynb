{
 "cells": [
  {
   "cell_type": "code",
   "execution_count": 7,
   "metadata": {},
   "outputs": [
    {
     "name": "stdout",
     "output_type": "stream",
     "text": [
      "Hello Mojo🔥\n"
     ]
    }
   ],
   "source": [
    "print(\"Hello Mojo🔥\")"
   ]
  },
  {
   "cell_type": "code",
   "execution_count": 8,
   "metadata": {},
   "outputs": [
    {
     "name": "stdout",
     "output_type": "stream",
     "text": [
      "5\n",
      "6\n"
     ]
    }
   ],
   "source": [
    "# borrowed ödünç alır, fonksiyonu gerçekleştirir ama asıl değeri etkilemez, asıl değer immutable kalır.\n",
    "\n",
    "var a = 5\n",
    "\n",
    "fn add(borrowed x: Int) -> Int: # return ile çıkan değerin Int olmasını sağlıyor. Yazılmazsa hata verilir çünkü çıkan değerin ne olduğu anlaşılmaz.\n",
    "    \n",
    "    return x+1\n",
    "\n",
    "add(a)\n",
    "print(a)\n",
    "\n",
    "a = add(a)\n",
    "print(a)"
   ]
  },
  {
   "cell_type": "code",
   "execution_count": 9,
   "metadata": {},
   "outputs": [
    {
     "name": "stdout",
     "output_type": "stream",
     "text": [
      "7\n"
     ]
    }
   ],
   "source": [
    "# inout asıl değeri değiştirir, fonksiyon bittikten sonra bile değer değişmiş kalır, yani mutable haldedir.\n",
    "\n",
    "var b = 5\n",
    "\n",
    "fn add_inout(inout x: Int) -> Int:\n",
    "    \n",
    "    x = x+2\n",
    "    return x\n",
    "\n",
    "add_inout(b)\n",
    "print(b) "
   ]
  },
  {
   "cell_type": "code",
   "execution_count": 10,
   "metadata": {},
   "outputs": [
    {
     "name": "stdout",
     "output_type": "stream",
     "text": [
      "mojo\n",
      "mojo🔥\n"
     ]
    }
   ],
   "source": [
    "# owned asıl değeri değiştirmez, yepyeni bir değer ortaya çıkarır.\n",
    "# let ile işlev kazanır.\n",
    "\n",
    "from String import String\n",
    "\n",
    "fn set_fire(owned text: String) -> String:\n",
    "    text += \"🔥\"\n",
    "    return text\n",
    "\n",
    "fn mojo():\n",
    "    let a: String = \"mojo\"\n",
    "    let b = set_fire(a) # set_fire(a^) yazılırsa owned fonksiyonu a'yı sildikten sonra yeni bir b değeri yaratır.\n",
    "    print(a)\n",
    "    print(b)\n",
    "\n",
    "mojo()"
   ]
  }
 ],
 "metadata": {
  "kernelspec": {
   "display_name": "Mojo",
   "language": "mojo",
   "name": "mojo-jupyter-kernel"
  },
  "language_info": {
   "codemirror_mode": {
    "name": "mojo"
   },
   "file_extension": ".mojo",
   "mimetype": "text/x-mojo",
   "name": "mojo"
  },
  "orig_nbformat": 4
 },
 "nbformat": 4,
 "nbformat_minor": 2
}
